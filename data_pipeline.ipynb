{
 "cells": [
  {
   "cell_type": "markdown",
   "metadata": {},
   "source": [
    "# Setup"
   ]
  },
  {
   "cell_type": "code",
   "execution_count": 1,
   "metadata": {},
   "outputs": [],
   "source": [
    "import pandas as pd\n",
    "import numpy as numpy\n",
    "import os\n",
    "import json\n",
    "from pathlib import Path\n",
    "\n",
    "# Own functions\n",
    "from utils import query\n",
    "from utils.helpers import *"
   ]
  },
  {
   "cell_type": "markdown",
   "metadata": {},
   "source": [
    "## Load api key"
   ]
  },
  {
   "cell_type": "code",
   "execution_count": 2,
   "metadata": {},
   "outputs": [
    {
     "name": "stdout",
     "output_type": "stream",
     "text": [
      "\u001b[92mAPI keys loaded successfully\u001b[0m\n"
     ]
    }
   ],
   "source": [
    "keys_path = \"keys/api_key.json\"\n",
    "# Check if existing keys\n",
    "if not os.path.exists(keys_path):\n",
    "    keys = {}\n",
    "    while True:\n",
    "        # In case it does not exist, the following are requested \n",
    "        name_key = str(input(\"Enter name of your API key: \"))\n",
    "        api_key = str(input(\"Enter your API key token: \"))\n",
    "\n",
    "        keys[name_key] = api_key\n",
    "\n",
    "        answer = str(input(\"Other API key? y/n\")).lower()\n",
    "\n",
    "        if answer in [\"y\", \"yes\", \"n\", \"no\"]:\n",
    "            Path('keys').mkdir(parents=True, exist_ok=True)\n",
    "            if answer in [\"n\", \"no\"]:\n",
    "                # Finally save keys\n",
    "                with open(keys_path, 'w') as file:\n",
    "                    json.dump(keys, file)\n",
    "                break\n",
    "        else:\n",
    "            while answer not in [\"y\", \"yes\", \"n\", \"no\"]:\n",
    "                answer = str(input(\"Invalid answer\\n. Other API key? y/n\")).lower()\n",
    "\n",
    "\n",
    "    \n",
    "with open(keys_path, 'r') as file:\n",
    "    keys_data = json.load(file) \n",
    "\n",
    "printg(\"API keys loaded successfully\")             "
   ]
  },
  {
   "cell_type": "markdown",
   "metadata": {},
   "source": [
    "# Load data"
   ]
  },
  {
   "cell_type": "code",
   "execution_count": 5,
   "metadata": {},
   "outputs": [
    {
     "name": "stdout",
     "output_type": "stream",
     "text": [
      "\u001b[93mStart search\u001b[0m\n",
      "\u001b[92mFinish search\u001b[0m\n",
      "\t Total elements 6936\n"
     ]
    }
   ],
   "source": [
    "printy(\"Start search\")\n",
    "dict_data_result = query.searchAPI(keys_data[\"hubspot\"])\n",
    "printg(\"Finish search\")\n",
    "print(\"\\t Total elements\", dict_data_result[\"total\"])"
   ]
  }
 ],
 "metadata": {
  "kernelspec": {
   "display_name": "Python 3",
   "language": "python",
   "name": "python3"
  },
  "language_info": {
   "codemirror_mode": {
    "name": "ipython",
    "version": 3
   },
   "file_extension": ".py",
   "mimetype": "text/x-python",
   "name": "python",
   "nbconvert_exporter": "python",
   "pygments_lexer": "ipython3",
   "version": "3.12.1"
  }
 },
 "nbformat": 4,
 "nbformat_minor": 2
}
