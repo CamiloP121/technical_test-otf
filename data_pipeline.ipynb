{
 "cells": [
  {
   "cell_type": "markdown",
   "metadata": {},
   "source": [
    "# Setup"
   ]
  },
  {
   "cell_type": "code",
   "execution_count": 1,
   "metadata": {},
   "outputs": [],
   "source": [
    "import pandas as pd\n",
    "import numpy as numpy\n",
    "import os\n",
    "import json\n",
    "from pathlib import Path\n",
    "from tqdm.notebook import tqdm\n",
    "\n",
    "# Own functions\n",
    "from utils import query, ETL\n",
    "from utils.helpers import *"
   ]
  },
  {
   "cell_type": "markdown",
   "metadata": {},
   "source": [
    "## Load api key"
   ]
  },
  {
   "cell_type": "code",
   "execution_count": 2,
   "metadata": {},
   "outputs": [
    {
     "name": "stdout",
     "output_type": "stream",
     "text": [
      "\u001b[92mAPI keys loaded successfully\u001b[0m\n"
     ]
    }
   ],
   "source": [
    "keys_path = \"keys/api_key.json\"\n",
    "# Check if existing keys\n",
    "if not os.path.exists(keys_path):\n",
    "    keys = {}\n",
    "    while True:\n",
    "        # In case it does not exist, the following are requested \n",
    "        name_key = str(input(\"Enter name of your API key: \"))\n",
    "        api_key = str(input(\"Enter your API key token: \"))\n",
    "\n",
    "        keys[name_key] = api_key\n",
    "\n",
    "        answer = str(input(\"Other API key? y/n\")).lower()\n",
    "\n",
    "        if answer in [\"y\", \"yes\", \"n\", \"no\"]:\n",
    "            Path('keys').mkdir(parents=True, exist_ok=True)\n",
    "            if answer in [\"n\", \"no\"]:\n",
    "                # Finally save keys\n",
    "                with open(keys_path, 'w') as file:\n",
    "                    json.dump(keys, file)\n",
    "                break\n",
    "        else:\n",
    "            while answer not in [\"y\", \"yes\", \"n\", \"no\"]:\n",
    "                answer = str(input(\"Invalid answer\\n. Other API key? y/n\")).lower()\n",
    "\n",
    "\n",
    "    \n",
    "with open(keys_path, 'r') as file:\n",
    "    keys_data = json.load(file) \n",
    "\n",
    "printg(\"API keys loaded successfully\")             "
   ]
  },
  {
   "cell_type": "markdown",
   "metadata": {},
   "source": [
    "# Load data"
   ]
  },
  {
   "cell_type": "code",
   "execution_count": 3,
   "metadata": {},
   "outputs": [
    {
     "name": "stdout",
     "output_type": "stream",
     "text": [
      "\u001b[93mStart search\u001b[0m\n"
     ]
    },
    {
     "data": {
      "application/vnd.jupyter.widget-view+json": {
       "model_id": "5f6d0a70df6e46d0a5a36854a8fbb934",
       "version_major": 2,
       "version_minor": 0
      },
      "text/plain": [
       "Extracting:   0%|          | 0/69 [00:00<?, ?it/s]"
      ]
     },
     "metadata": {},
     "output_type": "display_data"
    },
    {
     "name": "stdout",
     "output_type": "stream",
     "text": [
      "36\n",
      "\u001b[92mFinish search\u001b[0m\n",
      "\t Total elements 6936\n"
     ]
    }
   ],
   "source": [
    "\n",
    "data_path = \"data/data.csv\"\n",
    "# Check if existing data\n",
    "if not os.path.exists(data_path):\n",
    "    Path('data').mkdir(parents=True, exist_ok=True)\n",
    "    printy(\"Start search\")\n",
    "    # Extract first page\n",
    "    dict_data_result = query.searchAPI(keys_data[\"hubspot\"])\n",
    "    # Convert in DataFrame\n",
    "    data = [ETL.dict2dataframe(dict_data_result)]\n",
    "    \n",
    "    data_size = dict_data_result[\"total\"]\n",
    "    iterations = data_size // 100 if data_size % 100 == 0 else (data_size // 100) + 1\n",
    "    limit = 100\n",
    "    for i in tqdm(range(1,iterations), desc=\"Extracting\"):\n",
    "        if data_size - (i*100) <= 100:\n",
    "            limit = data_size - (i*100)\n",
    "            print(limit)\n",
    "        dict_data_result = query.searchAPI(keys_data[\"hubspot\"], limit = limit, page = i)\n",
    "        # Convert in DataFrame\n",
    "        data.extend([ETL.dict2dataframe(dict_data_result)])\n",
    "    printg(\"Finish search\")\n",
    "    # Save\n",
    "    data = pd.concat(data)\n",
    "    data.to_csv(data_path, sep = \"|\", index = False)\n",
    "\n",
    "else:\n",
    "    print(\"Exist data.csv\")\n",
    "    printy(\"Start load\")\n",
    "    data = pd.read_csv(data_path, sep = \"|\")\n",
    "    printg(\"Finish load\")\n",
    "\n",
    "\n",
    "print(\"\\t Total elements\", len(data))"
   ]
  },
  {
   "cell_type": "code",
   "execution_count": 4,
   "metadata": {},
   "outputs": [
    {
     "data": {
      "text/html": [
       "<div>\n",
       "<style scoped>\n",
       "    .dataframe tbody tr th:only-of-type {\n",
       "        vertical-align: middle;\n",
       "    }\n",
       "\n",
       "    .dataframe tbody tr th {\n",
       "        vertical-align: top;\n",
       "    }\n",
       "\n",
       "    .dataframe thead th {\n",
       "        text-align: right;\n",
       "    }\n",
       "</style>\n",
       "<table border=\"1\" class=\"dataframe\">\n",
       "  <thead>\n",
       "    <tr style=\"text-align: right;\">\n",
       "      <th></th>\n",
       "      <th>address</th>\n",
       "      <th>country</th>\n",
       "      <th>createdate</th>\n",
       "      <th>hs_object_id</th>\n",
       "      <th>industry</th>\n",
       "      <th>lastmodifieddate</th>\n",
       "      <th>phone</th>\n",
       "      <th>raw_email</th>\n",
       "      <th>technical_test___create_date</th>\n",
       "    </tr>\n",
       "  </thead>\n",
       "  <tbody>\n",
       "    <tr>\n",
       "      <th>31</th>\n",
       "      <td>Spruce Grove, 6997</td>\n",
       "      <td>Milton Keynes</td>\n",
       "      <td>2023-05-15T02:39:02.017Z</td>\n",
       "      <td>413209</td>\n",
       "      <td>Fruit and vegetables</td>\n",
       "      <td>2023-09-16T10:58:09.029Z</td>\n",
       "      <td>0-804-316-088</td>\n",
       "      <td>Violet &lt;violet_moran1613873168@gembat.biz&gt; Con...</td>\n",
       "      <td>2021-02-11</td>\n",
       "    </tr>\n",
       "    <tr>\n",
       "      <th>32</th>\n",
       "      <td>King William  Rue, 748</td>\n",
       "      <td>Cork</td>\n",
       "      <td>2023-05-15T02:39:02.017Z</td>\n",
       "      <td>413901</td>\n",
       "      <td>Dairy products</td>\n",
       "      <td>2023-09-16T10:55:10.641Z</td>\n",
       "      <td>3-668-267-421</td>\n",
       "      <td>Vera &lt;vera_payne1587262285@gmail.com&gt; Contact ...</td>\n",
       "      <td>2021-01-10</td>\n",
       "    </tr>\n",
       "    <tr>\n",
       "      <th>33</th>\n",
       "      <td>Udall   Street, 7289</td>\n",
       "      <td>London</td>\n",
       "      <td>2023-05-15T02:39:02.017Z</td>\n",
       "      <td>421501</td>\n",
       "      <td>Milling</td>\n",
       "      <td>2023-09-16T10:53:10.027Z</td>\n",
       "      <td>4-735-376-611</td>\n",
       "      <td>Vera &lt;vera_payne1227725435@irrepsy.com&gt; Contac...</td>\n",
       "      <td>2022-01-01</td>\n",
       "    </tr>\n",
       "    <tr>\n",
       "      <th>34</th>\n",
       "      <td>Belmont Park Walk, 5338</td>\n",
       "      <td>Dublin</td>\n",
       "      <td>2023-05-15T02:39:02.017Z</td>\n",
       "      <td>421753</td>\n",
       "      <td>Poultry and fish</td>\n",
       "      <td>2023-09-16T10:55:40.011Z</td>\n",
       "      <td>5-655-825-605</td>\n",
       "      <td>Vera &lt;vera_janes1928590357@nanoff.biz&gt; Contact...</td>\n",
       "      <td>2021-11-18</td>\n",
       "    </tr>\n",
       "    <tr>\n",
       "      <th>35</th>\n",
       "      <td>Woodland Hill, 8430</td>\n",
       "      <td>Milton Keynes</td>\n",
       "      <td>2023-05-15T02:39:02.017Z</td>\n",
       "      <td>422853</td>\n",
       "      <td>Dairy products</td>\n",
       "      <td>2023-09-16T10:53:28.891Z</td>\n",
       "      <td>7-777-162-004</td>\n",
       "      <td>Vicky &lt;vicky_morrison114799425@atink.com&gt; Cont...</td>\n",
       "      <td>2021-07-16</td>\n",
       "    </tr>\n",
       "  </tbody>\n",
       "</table>\n",
       "</div>"
      ],
      "text/plain": [
       "                    address        country                createdate  \\\n",
       "31       Spruce Grove, 6997  Milton Keynes  2023-05-15T02:39:02.017Z   \n",
       "32   King William  Rue, 748           Cork  2023-05-15T02:39:02.017Z   \n",
       "33     Udall   Street, 7289         London  2023-05-15T02:39:02.017Z   \n",
       "34  Belmont Park Walk, 5338         Dublin  2023-05-15T02:39:02.017Z   \n",
       "35      Woodland Hill, 8430  Milton Keynes  2023-05-15T02:39:02.017Z   \n",
       "\n",
       "   hs_object_id              industry          lastmodifieddate  \\\n",
       "31       413209  Fruit and vegetables  2023-09-16T10:58:09.029Z   \n",
       "32       413901        Dairy products  2023-09-16T10:55:10.641Z   \n",
       "33       421501               Milling  2023-09-16T10:53:10.027Z   \n",
       "34       421753      Poultry and fish  2023-09-16T10:55:40.011Z   \n",
       "35       422853        Dairy products  2023-09-16T10:53:28.891Z   \n",
       "\n",
       "            phone                                          raw_email  \\\n",
       "31  0-804-316-088  Violet <violet_moran1613873168@gembat.biz> Con...   \n",
       "32  3-668-267-421  Vera <vera_payne1587262285@gmail.com> Contact ...   \n",
       "33  4-735-376-611  Vera <vera_payne1227725435@irrepsy.com> Contac...   \n",
       "34  5-655-825-605  Vera <vera_janes1928590357@nanoff.biz> Contact...   \n",
       "35  7-777-162-004  Vicky <vicky_morrison114799425@atink.com> Cont...   \n",
       "\n",
       "   technical_test___create_date  \n",
       "31                   2021-02-11  \n",
       "32                   2021-01-10  \n",
       "33                   2022-01-01  \n",
       "34                   2021-11-18  \n",
       "35                   2021-07-16  "
      ]
     },
     "execution_count": 4,
     "metadata": {},
     "output_type": "execute_result"
    }
   ],
   "source": [
    "data.tail()"
   ]
  },
  {
   "cell_type": "code",
   "execution_count": null,
   "metadata": {},
   "outputs": [],
   "source": []
  }
 ],
 "metadata": {
  "kernelspec": {
   "display_name": "Python 3",
   "language": "python",
   "name": "python3"
  },
  "language_info": {
   "codemirror_mode": {
    "name": "ipython",
    "version": 3
   },
   "file_extension": ".py",
   "mimetype": "text/x-python",
   "name": "python",
   "nbconvert_exporter": "python",
   "pygments_lexer": "ipython3",
   "version": "3.12.1"
  }
 },
 "nbformat": 4,
 "nbformat_minor": 2
}
